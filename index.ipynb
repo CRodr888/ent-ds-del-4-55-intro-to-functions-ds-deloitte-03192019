{
 "cells": [
  {
   "cell_type": "markdown",
   "metadata": {},
   "source": [
    "# An Introduction to Functions\n",
    "\n",
    "\n",
    "## Introduction\n",
    "\n",
    "Functions are a way you can take little bits of your Python scripts and use them multiple times within your programs. As your code gets more complex, they become an increasing important way to hide complexity and reduce duplication in your code. You'll need to use them for the upcoming web scraping lab, and they will also be useful for keeping your code comprehensible, simple and maintainable after this course.\n",
    "\n",
    "## Objectives\n",
    "You will be able to:\n",
    "* Explain the benefits of functions\n",
    "* Create functions\n",
    "* Call the created functions"
   ]
  },
  {
   "cell_type": "markdown",
   "metadata": {},
   "source": []
  },
  {
   "cell_type": "markdown",
   "metadata": {},
   "source": [
    "## Summary\n",
    "\n"
   ]
  }
 ],
 "metadata": {
  "kernelspec": {
   "display_name": "Python 3",
   "language": "python",
   "name": "python3"
  },
  "language_info": {
   "codemirror_mode": {
    "name": "ipython",
    "version": 3
   },
   "file_extension": ".py",
   "mimetype": "text/x-python",
   "name": "python",
   "nbconvert_exporter": "python",
   "pygments_lexer": "ipython3",
   "version": "3.6.5"
  }
 },
 "nbformat": 4,
 "nbformat_minor": 2
}
