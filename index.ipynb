{
 "cells": [
  {
   "cell_type": "markdown",
   "metadata": {},
   "source": [
    "# An Introduction to Functions\n",
    "\n",
    "\n",
    "## Introduction\n",
    "\n",
    "Functions are a way you can take little bits of your Python scripts and reuse them multiple times within your programs. As your code gets more complex, they become an increasing important way to hide complexity and reduce duplication in your code. You'll need to use them for the upcoming web scraping lab, and they will also be useful for keeping your code comprehensible, simple and maintainable after this course.\n",
    "\n",
    "## Objectives\n",
    "You will be able to:\n",
    "* Explain the benefits of functions\n",
    "* Create functions\n",
    "* Call the created functions"
   ]
  },
  {
   "cell_type": "markdown",
   "metadata": {},
   "source": [
    "## Introducing Functions\n",
    "\n",
    "Functions are a way of reusing pieces of code. Let's start with a really simple example. Imagine that we have a group of employees who have just joined our company. We want to send each of them a nice welcome message. We could use a for loop to create a list of welcome_messages."
   ]
  },
  {
   "cell_type": "code",
   "execution_count": null,
   "metadata": {},
   "outputs": [],
   "source": [
    "new_employees = ['jim', 'tracy', 'lisa']\n",
    "welcome_messages = []\n",
    "for new_employee in new_employees:\n",
    "    welcome_messages.append(\"Hi \" + new_employee.title() + \", I'm so glad to be working with you!\" )\n",
    "\n",
    "welcome_messages"
   ]
  },
  {
   "cell_type": "markdown",
   "metadata": {},
   "source": [
    "Then a couple of weeks later, a few more employees join, and we want to send messages to them as well. Well to accomplish welcoming the new employees, we would likely copy our code from above."
   ]
  },
  {
   "cell_type": "code",
   "execution_count": null,
   "metadata": {},
   "outputs": [],
   "source": [
    "new_employees = ['steven', 'jan', 'meryl']\n",
    "welcome_messages = []\n",
    "for new_employee in new_employees:\n",
    "    welcome_messages.append(\"Hi \" + new_employee.title() + \", I'm so glad to be working with you!\" )\n",
    "    \n",
    "welcome_messages"
   ]
  },
  {
   "cell_type": "markdown",
   "metadata": {},
   "source": [
    "If each time we wanted to reuse code we needed to copy and paste the code, we would have to maintain a lot more code than is necessary. Also, each time we recopied it is another opportunity to make a mistake. So what if there was a way to write that code just one time, yet be able to execute that code wherever and whenever we want? Functions allow us to do just that.\n",
    "\n",
    "Here is that same code wrapped in a function."
   ]
  },
  {
   "cell_type": "code",
   "execution_count": null,
   "metadata": {},
   "outputs": [],
   "source": [
    "def greet_employees():\n",
    "    welcome_messages = []\n",
    "    for new_employee in new_employees:\n",
    "        welcome_messages.append(\"Hi \" + new_employee.title() + \", I'm so glad to be working with you!\" )\n",
    "\n",
    "    return welcome_messages\n",
    "\n",
    "greet_employees()"
   ]
  },
  {
   "cell_type": "markdown",
   "metadata": {},
   "source": [
    "There are two steps to using a function: defining a function and executing a function. Defining a function happens first, and afterward when we call greet_employees() we execute the function."
   ]
  },
  {
   "cell_type": "code",
   "execution_count": null,
   "metadata": {},
   "outputs": [],
   "source": [
    "new_employees = ['Jan', 'Joe', 'Avi']\n",
    "greet_employees()"
   ]
  },
  {
   "cell_type": "markdown",
   "metadata": {},
   "source": [
    "Ok let's break down how to define, or declare, a function. Executing a function is fairly simple, just type the function's name followed by parentheses."
   ]
  },
  {
   "cell_type": "code",
   "execution_count": null,
   "metadata": {},
   "outputs": [],
   "source": [
    "greet_employees()"
   ]
  },
  {
   "cell_type": "markdown",
   "metadata": {},
   "source": [
    "## Declaring and Using Functions\n",
    "\n",
    "There are two components to declaring a function: the function signature and the function body."
   ]
  },
  {
   "cell_type": "code",
   "execution_count": null,
   "metadata": {},
   "outputs": [],
   "source": [
    "def name_of_function(): # signature\n",
    "    words = 'function body' # body\n",
    "    print(words) # body"
   ]
  },
  {
   "cell_type": "markdown",
   "metadata": {},
   "source": [
    "### Function Signature\n",
    "The function signature is the first line of the function. It follows the pattern of `def`, `function name`, `parentheses`, `colon`.\n",
    "\n",
    "`def name_of_function():`\n",
    "\n",
    "The `def` is there to tell Python that you are about to declare a function. The name of the function indicates how to reference and execute the function later. The colon is to end the function signature and indicate that the body of the function is next. The parentheses are important as well, and we'll explain their use in a later lesson.\n",
    "\n",
    "### Function Body\n",
    "The body of the function is what the function does. This is the code that runs each time we execute the function. We indicate that we are writing the function body by going to the next line and indenting after the colon. To complete the function body we stop indenting."
   ]
  },
  {
   "cell_type": "code",
   "execution_count": null,
   "metadata": {},
   "outputs": [],
   "source": [
    "def name_of_function(): \n",
    "    words = 'function body' # function body\n",
    "    print(words) # function body    \n",
    "# no longer part of the function body"
   ]
  },
  {
   "cell_type": "markdown",
   "metadata": {},
   "source": [
    "Let's execute the name_of_function function."
   ]
  },
  {
   "cell_type": "code",
   "execution_count": null,
   "metadata": {},
   "outputs": [],
   "source": [
    "name_of_function()"
   ]
  },
  {
   "cell_type": "markdown",
   "metadata": {},
   "source": [
    "Did it work? Kinda. The lines of our function were run. But our function did not return anything. Functions are designed so that everything inside of them stay inside. So for example, even though we declared the `words` variable, `words` is not available from outside of the function. Note the error you get when you run the next cell . . ."
   ]
  },
  {
   "cell_type": "code",
   "execution_count": null,
   "metadata": {},
   "outputs": [],
   "source": [
    "words"
   ]
  },
  {
   "cell_type": "markdown",
   "metadata": {},
   "source": [
    "To get something out of the function, we must use the return keyword, followed by what we would like to return. Let's declare another function called other_function that has a body which is exactly the same, but has a return statement."
   ]
  },
  {
   "cell_type": "code",
   "execution_count": null,
   "metadata": {},
   "outputs": [],
   "source": [
    "def other_function(): # signature\n",
    "    words = 'returned from inside the function body' # body\n",
    "    return words"
   ]
  },
  {
   "cell_type": "code",
   "execution_count": null,
   "metadata": {},
   "outputs": [],
   "source": [
    "other_function()"
   ]
  },
  {
   "cell_type": "markdown",
   "metadata": {},
   "source": [
    "Much better. So with the return statement we returned the string `returned from inside the function body`."
   ]
  },
  {
   "cell_type": "markdown",
   "metadata": {},
   "source": [
    "### See it again\n",
    "Now let's identify the function signature and function body of our original function, `greet_empoyees()`."
   ]
  },
  {
   "cell_type": "code",
   "execution_count": null,
   "metadata": {},
   "outputs": [],
   "source": [
    "def greet_employees(): # function signature\n",
    "    welcome_messages = [] # begin function body\n",
    "    for new_employee in new_employees:\n",
    "        welcome_messages.append(\"Hi \" + new_employee.title() + \", I'm so glad to be working with you!\" )\n",
    "\n",
    "    return welcome_messages # return statement\n",
    "\n",
    "# no longer in function body"
   ]
  },
  {
   "cell_type": "markdown",
   "metadata": {},
   "source": [
    "As you can see, `greet_employees` has the same components of a function we identified earlier: the function signature, the function body, and the return statement. Each time we call, `greet_employees()`, all of the lines in the body of the function are run. However, only the return value is accessible from outside of the function."
   ]
  },
  {
   "cell_type": "code",
   "execution_count": null,
   "metadata": {},
   "outputs": [],
   "source": [
    "greet_employees()"
   ]
  },
  {
   "cell_type": "markdown",
   "metadata": {},
   "source": [
    "## Applying Functions\n",
    "\n",
    "ON, now we've looked at the anatomy of a function, let's apply it. Let's go back to a problem we solved a few weeks ago. We had a bunch of companies with different company types, but variations in capitalization caused us a problem when trying to understand how many of the companies were LLC's, etc..."
   ]
  },
  {
   "cell_type": "code",
   "execution_count": null,
   "metadata": {},
   "outputs": [],
   "source": [
    "import pandas as pd \n",
    "df = pd.read_csv('sample_data.csv')\n",
    "df['EntityType'].value_counts()"
   ]
  },
  {
   "cell_type": "markdown",
   "metadata": {},
   "source": [
    "One way to solve the problem would be the following code:"
   ]
  },
  {
   "cell_type": "code",
   "execution_count": null,
   "metadata": {},
   "outputs": [],
   "source": [
    "df.loc[df[\"EntityType\"] == \"llc\", \"EntityType\"] = \"LLC\"\n",
    "df.loc[df[\"EntityType\"] == \"c corp\", \"EntityType\"] = \"C corp\"\n",
    "df.loc[df[\"EntityType\"] == \"s corp\", \"EntityType\"] = \"S corp\"\n",
    "df['EntityType'].value_counts()"
   ]
  },
  {
   "cell_type": "markdown",
   "metadata": {},
   "source": [
    "But you notice that we're duplicating code. Those three lines of code are really very similar - just changing a different value in the dataframe. It's not too bad with three lines of code, but imagine if we had to write the same code 50 times - and then if something changed in the structure of our data so we had to change all 50 lines of code. Then imagine that those lines of code are in different parts of the notebook and that maybe you forgot to change one or two of them.\n",
    "\n",
    "This may sound very hypothetical right now (imagine that your office is being ovverrun by zombies, and your only weapon is a stapler, and you're out of staples . . .), but it turns out that unlike a zombie apocalypse, having lots of duplicated code that changes quite often is actually something that happens all the time when you write code.\n",
    "\n",
    "Functions allow you to pull out repetitive pieces of code to make them simpler to manage, test and modify over time. Lets try this again but using a function."
   ]
  },
  {
   "cell_type": "code",
   "execution_count": null,
   "metadata": {},
   "outputs": [],
   "source": [
    "def replacewith(dataframe, column, find, replace_with):\n",
    "    dataframe.loc[dataframe[column] == find, column] = replace_with\n",
    "    return dataframe\n",
    "\n",
    "df2 = pd.read_csv('sample_data.csv')\n",
    "df2 = replacewith(df2, \"EntityType\", \"llc\", \"LLC\")\n",
    "df2 = replacewith(df2, \"EntityType\", \"c corp\", \"C corp\")\n",
    "df2 = replacewith(df2, \"EntityType\", \"s corp\", \"S corp\")\n",
    "df2['EntityType'].value_counts()"
   ]
  },
  {
   "cell_type": "markdown",
   "metadata": {},
   "source": [
    "Let's look at what is going on here. Firstly we defined the function, then we said what parameters it took as inputs, then we wrote the code for it to run, and finally we told it what it should \"return\".\n",
    "\n",
    "That's a little better. We're replacing the implementation code with the function, but there is still a lot of duplication. I bet a small loop could fix that up:"
   ]
  },
  {
   "cell_type": "code",
   "execution_count": null,
   "metadata": {},
   "outputs": [],
   "source": [
    "def replacewith(dataframe, column, find, replace_with):\n",
    "    dataframe.loc[dataframe[column] == find, column] = replace_with\n",
    "    return dataframe\n",
    "\n",
    "replacements = {\"llc\": \"LLC\",\n",
    "                \"c corp\": \"C corp\",\n",
    "                \"s corp\": \"S corp\"\n",
    "               }\n",
    "\n",
    "df3 = pd.read_csv('sample_data.csv')\n",
    "\n",
    "for key, value in replacements.items():\n",
    "    df3 = replacewith(df2, \"EntityType\", key, value)\n",
    "df3['EntityType'].value_counts()"
   ]
  },
  {
   "cell_type": "markdown",
   "metadata": {},
   "source": [
    "And there we go, now we're \"encapsulating\" the details of *how* we `replacewith()`, meaning that if we need to change that code ever we'll only have to change it in one place. Sometimes you'll hear this referred to as DRYing up your code, referencing a concept from a classic programming book called \"[The Pragmatic Programmer](https://www.amazon.com/Pragmatic-Programmer-Journeyman-Master-ebook/dp/B003GCTQAE)\" which introduces the concept of DRY code (standing for Dont Repeat Yourself)."
   ]
  },
  {
   "cell_type": "markdown",
   "metadata": {},
   "source": [
    "## Recursive Functions\n",
    "\n",
    "OK, there is just one more concept that we need to introduce for you to be ready for the lab, and that is recursive functions (functions that call themselves). They take a bit of getting used to, so don't worry if this feels like a lot, but for some kinds of problems they are the only way to solve them, so it's worth taking the time to at least get familiar with the concept, even if implementing it might take a little while to get the hang of.\n",
    "\n",
    "### Why Bother?\n",
    "Why might you want to write a function that calls itself? Well, imagine you're writing a script to traverse a Python dictionary (perhaps created when importing a JSON file from an API). Lets say you want to iterate over all of the keys in the dictionary, but then do something to all of the values. Lets just take a trivial example of upper casing all of the values. So your code may look something like this:"
   ]
  },
  {
   "cell_type": "code",
   "execution_count": null,
   "metadata": {},
   "outputs": [],
   "source": [
    "our_dict = {\"key1\": \"value1\",\n",
    "            \"key2\": \"value2\",\n",
    "            \"key3\": \"value3\"\n",
    "           }\n",
    "print(our_dict)"
   ]
  },
  {
   "cell_type": "code",
   "execution_count": null,
   "metadata": {},
   "outputs": [],
   "source": [
    "def capitalize_values(dictionary):\n",
    "    for key, value in dictionary.items():\n",
    "        dictionary[key] = dictionary[key].upper()\n",
    "    return dictionary\n",
    "\n",
    "our_dict = capitalize_values(our_dict)\n",
    "print(our_dict)"
   ]
  },
  {
   "cell_type": "markdown",
   "metadata": {},
   "source": [
    "OK, now what happens if we have a dictionary within a dictionary? Something like this?"
   ]
  },
  {
   "cell_type": "code",
   "execution_count": null,
   "metadata": {},
   "outputs": [],
   "source": [
    "our_dict2 = {\"key1\": \"value1\",\n",
    "            \"key2\": \"value2\",\n",
    "            \"key3\": {\"keya\": \"valuea\",\n",
    "                    \"keyb\": \"valueb\",\n",
    "                    \"keyc\": \"valuec\"\n",
    "                   }\n",
    "           }\n",
    "print(our_dict2)"
   ]
  },
  {
   "cell_type": "markdown",
   "metadata": {},
   "source": [
    "Let's see what happens when we run our code against that. Remember, we don't need to re-define the function . - we can just reuse it..."
   ]
  },
  {
   "cell_type": "code",
   "execution_count": null,
   "metadata": {},
   "outputs": [],
   "source": [
    "our_dict2 = capitalize_values(our_dict2)\n",
    "print(our_dict2)"
   ]
  },
  {
   "cell_type": "markdown",
   "metadata": {},
   "source": [
    "Hmmm, well that error message makes sense. There is no method to `upper()` a dictionary. So what we really need to do is to write a more sophisticated function."
   ]
  },
  {
   "cell_type": "code",
   "execution_count": null,
   "metadata": {},
   "outputs": [],
   "source": [
    "def capitalize_values_recursively(dictionary):\n",
    "    for key, value in dictionary.items():\n",
    "        if type(dictionary[key]) == dict:\n",
    "            dictionary[key] = capitalize_values_recursively(dictionary[key])\n",
    "        else:\n",
    "            dictionary[key] = dictionary[key].upper()\n",
    "    return dictionary\n",
    "\n",
    "our_dict2 = capitalize_values_recursively(our_dict2)\n",
    "print(our_dict2)"
   ]
  },
  {
   "cell_type": "markdown",
   "metadata": {},
   "source": [
    "And voila - we just wrote our first recursive function! It loops over the keys and if the value of the key is of type dict, it calls itself again. And the nice thing about recursion is that it works no matter how complex the data is. Here's an example three levels deep:"
   ]
  },
  {
   "cell_type": "code",
   "execution_count": null,
   "metadata": {},
   "outputs": [],
   "source": [
    "our_dict3 = {\"key1\": \"value1\",\n",
    "            \"key2\": \"value2\",\n",
    "            \"key3\": {\"keya\": \"valuea\",\n",
    "                    \"keyb\": \"valueb\",\n",
    "                    \"keyc\": { \"keyx\": \"valuex\",\n",
    "                              \"keyy\": \"valuey\",\n",
    "                              \"keyz\": \"valuez\"\n",
    "                            }\n",
    "                   }\n",
    "           }\n",
    "print(our_dict3)\n",
    "our_dict3 = capitalize_values_recursively(our_dict3)\n",
    "print(our_dict3)"
   ]
  },
  {
   "cell_type": "markdown",
   "metadata": {},
   "source": [
    "## Summary\n",
    "\n",
    "Functions are an incredibly powerful tool for reuse of chunks of code. Even for simple projects it is worth getting into the habit of using them, so that as your projects get more complex, you'll have good habits established. Talking of more complex project, let's take a run at the scraping lab!"
   ]
  }
 ],
 "metadata": {
  "kernelspec": {
   "display_name": "Python 3",
   "language": "python",
   "name": "python3"
  },
  "language_info": {
   "codemirror_mode": {
    "name": "ipython",
    "version": 3
   },
   "file_extension": ".py",
   "mimetype": "text/x-python",
   "name": "python",
   "nbconvert_exporter": "python",
   "pygments_lexer": "ipython3",
   "version": "3.6.5"
  }
 },
 "nbformat": 4,
 "nbformat_minor": 2
}
