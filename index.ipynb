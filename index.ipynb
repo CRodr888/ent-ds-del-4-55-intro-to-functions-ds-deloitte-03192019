{
 "cells": [
  {
   "cell_type": "markdown",
   "metadata": {},
   "source": [
    "# An Introduction to Functions\n",
    "\n",
    "\n",
    "## Introduction\n",
    "\n",
    "Functions are a way you can take little bits of your Python scripts and use them multiple times within your programs. As your code gets more complex, they become an increasing important way to hide complexity and reduce duplication in your code. You'll need to use them for the upcoming web scraping lab, and they will also be useful for keeping your code comprehensible, simple and maintainable after this course.\n",
    "\n",
    "## Objectives\n",
    "You will be able to:\n",
    "* Explain the benefits of functions\n",
    "* Create functions\n",
    "* Call the created functions"
   ]
  },
  {
   "cell_type": "markdown",
   "metadata": {},
   "source": [
    "## Introducing Functions\n",
    "\n",
    "Functions are a way of reusing pieces of code.\n",
    "\n",
    "Let's go back to a problem we solved a few weeks ago. We had a bunch of companies with different company types, but the varying cases caused us a problem when trying to understand how many of the companies were LLC's, etc..."
   ]
  },
  {
   "cell_type": "code",
   "execution_count": 2,
   "metadata": {},
   "outputs": [
    {
     "data": {
      "text/plain": [
       "C corp    5\n",
       "c corp    4\n",
       "llc       3\n",
       "LLC       3\n",
       "S corp    2\n",
       "s corp    1\n",
       "Name: EntityType, dtype: int64"
      ]
     },
     "execution_count": 2,
     "metadata": {},
     "output_type": "execute_result"
    }
   ],
   "source": [
    "import pandas as pd \n",
    "df = pd.read_csv('sample_data.csv')\n",
    "df['EntityType'].value_counts()"
   ]
  },
  {
   "cell_type": "markdown",
   "metadata": {},
   "source": [
    "One way to solve the problem would be the following code:"
   ]
  },
  {
   "cell_type": "code",
   "execution_count": 3,
   "metadata": {},
   "outputs": [
    {
     "data": {
      "text/plain": [
       "C corp    9\n",
       "LLC       6\n",
       "S corp    3\n",
       "Name: EntityType, dtype: int64"
      ]
     },
     "execution_count": 3,
     "metadata": {},
     "output_type": "execute_result"
    }
   ],
   "source": [
    "df.loc[df[\"EntityType\"] == \"llc\", \"EntityType\"] = \"LLC\"\n",
    "df.loc[df[\"EntityType\"] == \"c corp\", \"EntityType\"] = \"C corp\"\n",
    "df.loc[df[\"EntityType\"] == \"s corp\", \"EntityType\"] = \"S corp\"\n",
    "df['EntityType'].value_counts()"
   ]
  },
  {
   "cell_type": "markdown",
   "metadata": {},
   "source": [
    "But you notice that we're duplicating code. Those three lines of code are really very similar - just changing a different value in the dataframe. It's not too bad with three lines of code, but imagine if we had to write the same code 50 times - and then if something changed in the structure of our data so we had to change all 50 lines of code. Then imagine that those lines of code are in different parts of the notebook and that maybe you forgot to change one or two of them.\n",
    "\n",
    "This may sound very hypothetical right now (imagine that your office is being ovverrun by zombies, and your only weapon is a stapler, and you're out of staples . . .), but it turns out that unlike a zombie apocalypse, having lots of duplicated code that changes quite often is actually something that happens all the time when you write code.\n",
    "\n",
    "Functions allow you to pull out repetitive pieces of code to make them simpler to manage, test and modify over time. Lets try this again but using a function."
   ]
  },
  {
   "cell_type": "code",
   "execution_count": 6,
   "metadata": {},
   "outputs": [
    {
     "data": {
      "text/plain": [
       "C corp    9\n",
       "LLC       6\n",
       "S corp    3\n",
       "Name: EntityType, dtype: int64"
      ]
     },
     "execution_count": 6,
     "metadata": {},
     "output_type": "execute_result"
    }
   ],
   "source": [
    "def replacewith(dataframe, column, find, replace_with):\n",
    "    dataframe.loc[dataframe[column] == find, column] = replace_with\n",
    "    return dataframe\n",
    "\n",
    "df2 = pd.read_csv('sample_data.csv')\n",
    "df2 = replacewith(df2, \"EntityType\", \"llc\", \"LLC\")\n",
    "df2 = replacewith(df2, \"EntityType\", \"c corp\", \"C corp\")\n",
    "df2 = replacewith(df2, \"EntityType\", \"s corp\", \"S corp\")\n",
    "df2['EntityType'].value_counts()"
   ]
  },
  {
   "cell_type": "markdown",
   "metadata": {},
   "source": [
    "Let's look at what is going on here. Firstly we defined the function, then we said what parameters it took as inputs, then we wrote the code for it to run, and finally we told it what it should \"return\".\n",
    "\n",
    "That's a little better. We're replacing the implementation code with the function, but there is still a lot of duplication. I bet a small loop could fix that up:"
   ]
  },
  {
   "cell_type": "code",
   "execution_count": 7,
   "metadata": {},
   "outputs": [
    {
     "data": {
      "text/plain": [
       "C corp    9\n",
       "LLC       6\n",
       "S corp    3\n",
       "Name: EntityType, dtype: int64"
      ]
     },
     "execution_count": 7,
     "metadata": {},
     "output_type": "execute_result"
    }
   ],
   "source": [
    "def replacewith(dataframe, column, find, replace_with):\n",
    "    dataframe.loc[dataframe[column] == find, column] = replace_with\n",
    "    return dataframe\n",
    "\n",
    "replacements = {\"llc\": \"LLC\",\n",
    "                \"c corp\": \"C corp\",\n",
    "                \"s corp\": \"S corp\"\n",
    "               }\n",
    "\n",
    "df3 = pd.read_csv('sample_data.csv')\n",
    "\n",
    "for key, value in replacements.items():\n",
    "    df3 = replacewith(df2, \"EntityType\", key, value)\n",
    "df3['EntityType'].value_counts()"
   ]
  },
  {
   "cell_type": "code",
   "execution_count": null,
   "metadata": {},
   "outputs": [],
   "source": []
  },
  {
   "cell_type": "code",
   "execution_count": null,
   "metadata": {},
   "outputs": [],
   "source": []
  },
  {
   "cell_type": "markdown",
   "metadata": {},
   "source": [
    "## Summary\n",
    "\n"
   ]
  }
 ],
 "metadata": {
  "kernelspec": {
   "display_name": "Python 3",
   "language": "python",
   "name": "python3"
  },
  "language_info": {
   "codemirror_mode": {
    "name": "ipython",
    "version": 3
   },
   "file_extension": ".py",
   "mimetype": "text/x-python",
   "name": "python",
   "nbconvert_exporter": "python",
   "pygments_lexer": "ipython3",
   "version": "3.6.5"
  }
 },
 "nbformat": 4,
 "nbformat_minor": 2
}
